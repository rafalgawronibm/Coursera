{
    "cells": [
        {
            "cell_type": "markdown",
            "metadata": {
                "collapsed": true
            },
            "source": "# Final project - REPORT"
        },
        {
            "cell_type": "markdown",
            "metadata": {},
            "source": "## Introduction\n\nThe problem we are attemtping to solve in this task is to recommend a neighborhood in Manhattan that could potentially be the best location for a new coffe shop. New York and the island of Manhattan are home to a mix of cultures and different nationalities. One habit that most of them have in common is the love for a good coffe- be it a latte, espresso, flat white or cappuchino. Although the city already have plenty of coffe shops and cafes we are trying to spot the best area that could acommodate one more coffe shop. The results of this study could be used by a potential investor looking to estabilish a yet another successful and profitable coffe shop. It can serve both multi venues chains or single shop investor. Despite very competitive market we aim for the just right spot to fit in our coffe shop.\n\n\n## Data description\n\nThe data we are going to work with was downloaded from https://cocl.us/new_york_dataset. This CSV dataset file contains information on 5 boroughs and 306 Manhattan's neighborhoods. In addition to that we will need to fetch each borough's geographical coordinates (latitude and longitude). First, we transform raw CSV file into Pandas dataframe for further processing, then we assing fetched coordinates and proceed with creating a map using folium libraries. Next step is to combine and segment the data, create clusters and anylyze potential new location for our coffe shop.\n\n\n## Methodology\n\n-Data was collected from https://cocl.us/new_york_dataset , acquired CSV file was cleaned and processed into Pandas dataframe\n\n-FourSquare API was used to locate all coffe shops in Manhattan\n\n-Geo coordinates were assigned from Google Maps API to available borroughs \n\n-Maps were created using Folium libraries\n\n-Clusteres were created and analyzed followed by final report and recommendaton for a new coffe shop location\n\n\n## Results section where you discuss the results\n\nThe result of this excersie are as follow:\n\n3 out of 5 borroughs are not suitable for a new coffe shop due to already an abundance of those in the area. Chinatown, Financial District, East and West village, Upper East Side and Harlem are not suitable for a new coffe shop. However, the analysis showed that we may be succesfull with opening our shop in the vincinity of Upper West Side, Inwood and Washington Heights. The amount of coffe shops in these areas tells us to have a closer look at it and take them into consideration when making a final decision.\n\n## Discussion \n\nAlthough the results were clear and could be used in real life, a fully comprehensive approach to such excersie would also require taking other factors into the account. Suggested areas are not very touristy and thus our targeted audience would be local habitants of these neighborhoods. That means we exclude tourists form the potential customer base and focus on the locals. We do not (yet) know the demographic characteristic of these neighborhoods and it would be great to include more data such as average income or age as minimum. If could then tell which of the three sugetsed neighborhoods have the demographic we are looking for would definitely get us closer to certaintity of our choice. \n\n## Conclusion\n\nTo conclude, this excercise gave us a clear answer of where to look for potential new coffe shop localtion in Manhattan. The results could be use in real life but a fully comprehensive version of it would require a few more variables to consider- mainly demographic data to explore more. The results are a solid foundation for further analysis and considereation to a potential investor. "
        },
        {
            "cell_type": "code",
            "execution_count": null,
            "metadata": {},
            "outputs": [],
            "source": ""
        }
    ],
    "metadata": {
        "kernelspec": {
            "display_name": "Python 3.6",
            "language": "python",
            "name": "python3"
        },
        "language_info": {
            "codemirror_mode": {
                "name": "ipython",
                "version": 3
            },
            "file_extension": ".py",
            "mimetype": "text/x-python",
            "name": "python",
            "nbconvert_exporter": "python",
            "pygments_lexer": "ipython3",
            "version": "3.6.9"
        }
    },
    "nbformat": 4,
    "nbformat_minor": 1
}