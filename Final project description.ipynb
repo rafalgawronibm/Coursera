{
    "cells": [
        {
            "cell_type": "markdown",
            "metadata": {
                "collapsed": true
            },
            "source": "# A description of the problem and a discussion of the background\n"
        },
        {
            "cell_type": "markdown",
            "metadata": {},
            "source": "### The problem we are attemtping to solve in this task is to recommend a neighborhood in Manhattan that could potentially be the best location for a new coffe shop. New York and the island of Manhattan are home to a mix of cultures and different nationalities. One habit that most of them have in common is the love for a good coffe- be it a latte, espresso, flat white or cappuchino. Although the city already have plenty of coffe shops and cafes we are trying to spot the best area that could acommodate one more coffe shop. The results of this study could be used by a potential investor looking to estabilish a yet another successful and profitable coffe shop. Despite very competitive market we aim for the just right spot to fit in our coffe shop. "
        },
        {
            "cell_type": "markdown",
            "metadata": {},
            "source": "# A description of the data and how it will be used to solve the problem"
        },
        {
            "cell_type": "markdown",
            "metadata": {},
            "source": "### The data we are going to work with was downloaded from https://cocl.us/new_york_dataset. This CSV dataset file contains information on 5 boroughs and 306 Manhattan's neighborhoods. In addition to that we will need to fetch each borough's geographical coordinates (latitude and longitude). First, we transform raw CSV file into Pandas dataframe for further processing, then we assing fetched coordinates and proceed with creating a map using folium libraries. Next step is to combine and segment the data, create clusters and anylyze potential new location for our coffe shop. "
        },
        {
            "cell_type": "code",
            "execution_count": null,
            "metadata": {},
            "outputs": [],
            "source": ""
        }
    ],
    "metadata": {
        "kernelspec": {
            "display_name": "Python 3.6",
            "language": "python",
            "name": "python3"
        },
        "language_info": {
            "codemirror_mode": {
                "name": "ipython",
                "version": 3
            },
            "file_extension": ".py",
            "mimetype": "text/x-python",
            "name": "python",
            "nbconvert_exporter": "python",
            "pygments_lexer": "ipython3",
            "version": "3.6.9"
        }
    },
    "nbformat": 4,
    "nbformat_minor": 1
}